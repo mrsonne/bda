{
 "cells": [
  {
   "cell_type": "markdown",
   "metadata": {},
   "source": [
    "# Section 3.7 Example: analysis of a bioassay experiment.\n",
    "\n",
    "I have followed the example in section 3.7 of Bayesian Data Analysis by Gelman et al (third edition, 2014). Below are my results  along with some comments. Look into the code to see the actual analysis.\n",
    "\n",
    "When time allows I will build the bioassay example using `pymc3` following [this example](https://nbviewer.jupyter.org/github/CamDavidsonPilon/Probabilistic-Programming-and-Bayesian-Methods-for-Hackers/blob/master/Chapter2_MorePyMC/Ch2_MorePyMC_PyMC3.ipynb#Example:-Challenger-Space-Shuttle-Disaster-).\n",
    "\n",
    "First import the data which summarizes trials on 20 individuals."
   ]
  },
  {
   "cell_type": "code",
   "execution_count": 2,
   "metadata": {},
   "outputs": [],
   "source": [
    "import sec_3_7 as sec37\n",
    "import warnings\n",
    "\n",
    "# hide warnings in Python 2\n",
    "warnings.simplefilter(action='ignore', category=UserWarning)\n",
    "\n",
    "data, feature_names = sec37.get_data()"
   ]
  },
  {
   "cell_type": "markdown",
   "metadata": {},
   "source": [
    "The the data is expanded to a form suited for logistic regression."
   ]
  },
  {
   "cell_type": "code",
   "execution_count": 3,
   "metadata": {},
   "outputs": [],
   "source": [
    "X, y = sec37.flatten_data(data)"
   ]
  },
  {
   "cell_type": "markdown",
   "metadata": {},
   "source": [
    "As an exercise we group the data representing individuals back to the original summary form presented by Gelman et al. using pandas"
   ]
  },
  {
   "cell_type": "code",
   "execution_count": 4,
   "metadata": {},
   "outputs": [
    {
     "name": "stdout",
     "output_type": "stream",
     "text": [
      "      x  ndead  ntot  nalive  pdead\n",
      "0 -0.86      0     5       5    0.0\n",
      "1 -0.30      1     5       4    0.2\n",
      "2 -0.05      3     5       2    0.6\n",
      "3  0.73      5     5       0    1.0\n"
     ]
    }
   ],
   "source": [
    "grouped = sec37.group_data(X, y)\n",
    "print(grouped)"
   ]
  },
  {
   "cell_type": "markdown",
   "metadata": {},
   "source": [
    "Use `scikit-learn` to do logistic regression (MLE). Note that the default regularization has effectively been turned off."
   ]
  },
  {
   "cell_type": "code",
   "execution_count": 5,
   "metadata": {},
   "outputs": [
    {
     "name": "stdout",
     "output_type": "stream",
     "text": [
      "\n",
      "*** sklearn ***\n",
      "Coefficients\n",
      "   Coef for Dose log g/ml 7.74871833754\n",
      "   Intercept: 0.846554250746\n"
     ]
    }
   ],
   "source": [
    "dose, p_dead, x_ld50, _ = sec37.logit_sklean(X, y, feature_names)"
   ]
  },
  {
   "cell_type": "markdown",
   "metadata": {},
   "source": [
    "Plot the result along with point estimates for the death probability at each dose"
   ]
  },
  {
   "cell_type": "code",
   "execution_count": null,
   "metadata": {},
   "outputs": [],
   "source": [
    "sec37.plot_logistic(dose, p_dead, grouped, x_ld50, estimate_type='MLE',\n",
    "                    xlabel=feature_names[0], ylabel='$p(Dead)$')"
   ]
  },
  {
   "cell_type": "markdown",
   "metadata": {},
   "source": [
    "As an exercise do the MLE using `statsmodels`"
   ]
  },
  {
   "cell_type": "code",
   "execution_count": null,
   "metadata": {},
   "outputs": [],
   "source": [
    "sec37.logit_statsmodels(X, y)"
   ]
  },
  {
   "cell_type": "markdown",
   "metadata": {},
   "source": [
    "Calculate the posterior density on a grid"
   ]
  },
  {
   "cell_type": "code",
   "execution_count": null,
   "metadata": {},
   "outputs": [],
   "source": [
    "(av, bv,\n",
    " density,\n",
    " a_vals, b_vals,\n",
    " delta_a, delta_b) = sec37.posterior_density_grid(data['Dose log g/ml'],\n",
    "                                                  data['Number of animals'],\n",
    "                                                  data['Number of deaths'],\n",
    "                                                  na=500, nb=500)"
   ]
  },
  {
   "cell_type": "markdown",
   "metadata": {},
   "source": [
    "Get the MAP estimate"
   ]
  },
  {
   "cell_type": "code",
   "execution_count": null,
   "metadata": {},
   "outputs": [],
   "source": [
    "idxs_map = pdf_grid.argmax()\n",
    "map_estimate = av.ravel()[idxs_map], bv.ravel()[idxs_map]\n",
    "print('MAP estimate (a, b)', map_estimate)"
   ]
  },
  {
   "cell_type": "markdown",
   "metadata": {},
   "source": [
    "Plot the density along with with MAP estimate"
   ]
  },
  {
   "cell_type": "code",
   "execution_count": null,
   "metadata": {},
   "outputs": [],
   "source": [
    "sec37.plot_posterior_density(av, bv, pdf_grid, map_estimate)"
   ]
  },
  {
   "cell_type": "markdown",
   "metadata": {},
   "source": [
    "Normalize the density to a probability distribution assuming constant value in each grid block. "
   ]
  },
  {
   "cell_type": "code",
   "execution_count": null,
   "metadata": {},
   "outputs": [],
   "source": [
    "pdf_grid = sec37.make_pdf_grid(density, delta_a, delta_b)"
   ]
  },
  {
   "cell_type": "markdown",
   "metadata": {},
   "source": [
    "Integrate pdf to validate that we were in fact successful"
   ]
  },
  {
   "cell_type": "code",
   "execution_count": null,
   "metadata": {},
   "outputs": [],
   "source": [
    "print('Total posterior probability (validation):', simps(simps(pdf_grid, b_vals), a_vals))"
   ]
  },
  {
   "cell_type": "markdown",
   "metadata": {},
   "source": [
    "Transform the density into a  multinominal grid"
   ]
  },
  {
   "cell_type": "code",
   "execution_count": null,
   "metadata": {},
   "outputs": [],
   "source": [
    "prob_grid = sec37.make_prob_grid(density)"
   ]
  },
  {
   "cell_type": "markdown",
   "metadata": {},
   "source": [
    "Sum over all grid blocks to validate that we were successful"
   ]
  },
  {
   "cell_type": "code",
   "execution_count": null,
   "metadata": {},
   "outputs": [],
   "source": [
    "print('Total posterior probability (validation):', prob_grid.sum())"
   ]
  },
  {
   "cell_type": "markdown",
   "metadata": {},
   "source": [
    "Sample the grid to draw (a, b) values from the posterior. Plot the sampled values."
   ]
  },
  {
   "cell_type": "code",
   "execution_count": null,
   "metadata": {},
   "outputs": [],
   "source": [
    "ab_vals = sec37.sample_posterior(a_vals, b_vals, prob_grid, nsamples=1000)\n",
    "sec37.plot_posterior_samples(ab_vals[:,0], ab_vals[:,1])"
   ]
  },
  {
   "cell_type": "code",
   "execution_count": null,
   "metadata": {},
   "outputs": [],
   "source": [
    "# Only use parameters where b>0 \n",
    "ab_vals = ab_vals[ab_vals[:,1] > 0]\n",
    "\n",
    "# LD50 histogram for b > 0\n",
    "axs = sec37.plot_ld50_hist(ab_vals)\n",
    "\n",
    "dose, p_dead = sec37.sample_model(ab_vals)\n",
    "x_ld50_map = -map_estimate[0]/map_estimate[1]\n",
    "sec37.plot_logistic(dose, p_dead, grouped, x_ld50_map,\n",
    "                    estimate_type='MAP', alpha=0.1,\n",
    "                    xlabel=feature_names[0], ylabel='p(dead)',\n",
    "                    ax=axs[0])"
   ]
  },
  {
   "cell_type": "code",
   "execution_count": null,
   "metadata": {},
   "outputs": [],
   "source": []
  },
  {
   "cell_type": "code",
   "execution_count": null,
   "metadata": {},
   "outputs": [],
   "source": []
  },
  {
   "cell_type": "code",
   "execution_count": null,
   "metadata": {},
   "outputs": [],
   "source": []
  }
 ],
 "metadata": {
  "kernelspec": {
   "display_name": "Python 2",
   "language": "python",
   "name": "python2"
  },
  "language_info": {
   "codemirror_mode": {
    "name": "ipython",
    "version": 2
   },
   "file_extension": ".py",
   "mimetype": "text/x-python",
   "name": "python",
   "nbconvert_exporter": "python",
   "pygments_lexer": "ipython2",
   "version": "2.7.15"
  }
 },
 "nbformat": 4,
 "nbformat_minor": 2
}
